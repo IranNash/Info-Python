{
 "cells": [
  {
   "cell_type": "markdown",
   "metadata": {},
   "source": [
    "# Mínimos cuadrados Ordinarios"
   ]
  },
  {
   "cell_type": "markdown",
   "metadata": {},
   "source": [
    "El método de minimos cuadrados ordinarios busca minimizar la suma de los cuadrados de los residuos.\n",
    "$$\n",
    "\\sum^n_{i=1} \\epsilon^2_{i}=\\sum^n_{i=1}(y_{i}-\\mathbf{b^{'}x_{i}})^2\n",
    "$$\n",
    "Si minimizamos obtenemos:\n",
    "$$\n",
    "\\min_{\\mathbf{b}} S(\\mathbf{b})=\\mathbf{\\epsilon^{'}\\epsilon} = \\mathbf{(y-Xb)(y-Xb)}\n",
    "$$\n",
    "$$\n",
    "S(\\mathbf{b})=\\mathbf{y'y}-2\\mathbf{y'Xb+b'X'Xb}\n",
    "$$\n",
    "La consiciones de mínimo es:\n",
    "$$\n",
    "\\frac{\\partial S(\\mathbf{b})}{\\partial \\mathbf{b}}=-2\\mathbf{X'y} + 2\\mathbf{X'Xb=0}\n",
    "$$\n",
    "Despejando tenemos:\n",
    "$$\n",
    "\\mathbf{b=(X'X)^{-1} X'y}\n",
    "$$"
   ]
  },
  {
   "cell_type": "code",
   "execution_count": 1,
   "metadata": {},
   "outputs": [],
   "source": [
    "import numpy as np\n",
    "import matplotlib.pyplot as plt"
   ]
  },
  {
   "cell_type": "code",
   "execution_count": 2,
   "metadata": {},
   "outputs": [],
   "source": [
    "x=[0,1,2,3,4,5,6,7,8] #creamos dos listas\n",
    "y=[15.2, 15.9, 16.7, 17.1, 17.8, 18.2, 18.3, 19.2, 20]"
   ]
  },
  {
   "cell_type": "code",
   "execution_count": 3,
   "metadata": {},
   "outputs": [],
   "source": [
    "x=np.array(x) #con numpy los convertirmos en vectores\n",
    "y=np.array(y)"
   ]
  },
  {
   "cell_type": "code",
   "execution_count": 4,
   "metadata": {},
   "outputs": [
    {
     "name": "stdout",
     "output_type": "stream",
     "text": [
      "[[1. 0.]\n",
      " [1. 1.]\n",
      " [1. 2.]\n",
      " [1. 3.]\n",
      " [1. 4.]\n",
      " [1. 5.]\n",
      " [1. 6.]\n",
      " [1. 7.]\n",
      " [1. 8.]]\n"
     ]
    }
   ],
   "source": [
    "A=np.array([np.ones(9), \n",
    "            x]).T\n",
    "print(A)"
   ]
  },
  {
   "cell_type": "markdown",
   "metadata": {},
   "source": [
    "Calculamos $\\mathbf{b=(X'X)^{-1} X'y}$"
   ]
  },
  {
   "cell_type": "code",
   "execution_count": 5,
   "metadata": {},
   "outputs": [
    {
     "name": "stdout",
     "output_type": "stream",
     "text": [
      "[15.37333333  0.55666667]\n"
     ]
    }
   ],
   "source": [
    "At=A.T\n",
    "w=np.linalg.inv(At @ A) @ At @ y\n",
    "print(w)"
   ]
  },
  {
   "cell_type": "code",
   "execution_count": 6,
   "metadata": {},
   "outputs": [
    {
     "data": {
      "image/png": "[encoded data removed]",
      "text/plain": [
       "<Figure size 432x288 with 1 Axes>"
      ]
     },
     "metadata": {
      "needs_background": "light"
     },
     "output_type": "display_data"
    }
   ],
   "source": [
    "plt.scatter(x,y)\n",
    "plt.plot([0,8], [w[0] + w[1]*0, w[0] + w[1]*8], c=\"red\")\n",
    "plt.show()"
   ]
  },
  {
   "cell_type": "markdown",
   "metadata": {},
   "source": [
    "# Aguste cúbico"
   ]
  },
  {
   "cell_type": "code",
   "execution_count": 7,
   "metadata": {},
   "outputs": [
    {
     "name": "stdout",
     "output_type": "stream",
     "text": [
      "[ 0.  1.  4.  9. 16. 25. 36. 49. 64.]\n"
     ]
    }
   ],
   "source": [
    "nx=len(x)\n",
    "x2 = np.zeros(nx)\n",
    "for i in range(0,nx):\n",
    "    x2[i]=x[i] ** 2\n",
    "print(x2)"
   ]
  },
  {
   "cell_type": "code",
   "execution_count": 8,
   "metadata": {},
   "outputs": [
    {
     "name": "stdout",
     "output_type": "stream",
     "text": [
      "[  0.   1.   8.  27.  64. 125. 216. 343. 512.]\n"
     ]
    }
   ],
   "source": [
    "x3 = np.zeros(nx)\n",
    "for i in range(0,nx):\n",
    "    x3[i]=x[i] ** 3\n",
    "print(x3)"
   ]
  },
  {
   "cell_type": "code",
   "execution_count": 9,
   "metadata": {},
   "outputs": [
    {
     "name": "stdout",
     "output_type": "stream",
     "text": [
      "[[  1.   0.   0.   0.]\n",
      " [  1.   1.   1.   1.]\n",
      " [  1.   2.   4.   8.]\n",
      " [  1.   3.   9.  27.]\n",
      " [  1.   4.  16.  64.]\n",
      " [  1.   5.  25. 125.]\n",
      " [  1.   6.  36. 216.]\n",
      " [  1.   7.  49. 343.]\n",
      " [  1.   8.  64. 512.]]\n"
     ]
    }
   ],
   "source": [
    "A2=np.array([np.ones(9), \n",
    "            x,\n",
    "            x2,\n",
    "            x3]).T\n",
    "print(A2)"
   ]
  },
  {
   "cell_type": "code",
   "execution_count": 10,
   "metadata": {},
   "outputs": [
    {
     "name": "stdout",
     "output_type": "stream",
     "text": [
      "[ 1.51353535e+01  1.00654161e+00 -1.40548341e-01  1.12794613e-02]\n"
     ]
    }
   ],
   "source": [
    "A2t=A2.T\n",
    "u=np.linalg.inv(A2t @ A2) @ A2t @ y\n",
    "print(u)"
   ]
  },
  {
   "cell_type": "markdown",
   "metadata": {},
   "source": [
    "Comparativa: Ajuste Lineal y ajuste cúbico"
   ]
  },
  {
   "cell_type": "code",
   "execution_count": 11,
   "metadata": {},
   "outputs": [
    {
     "data": {
      "image/png": "[encoded data removed]",
      "text/plain": [
       "<Figure size 432x288 with 1 Axes>"
      ]
     },
     "metadata": {
      "needs_background": "light"
     },
     "output_type": "display_data"
    }
   ],
   "source": [
    "plt.scatter(x,y)\n",
    "def h(x):\n",
    "    return u[0]+u[1] * x + u[2]* x**2 + u[3]*x**3\n",
    "x=np.linspace(0,8,100)\n",
    "plt.plot(x, h(x),\"r-\", label=\"Cúbica\")\n",
    "plt.plot([0,8], [w[0] + w[1]*0, w[0] + w[1]*8], c=\"green\")\n",
    "plt.show()"
   ]
  }
 ],
 "metadata": {
  "kernelspec": {
   "display_name": "Python 3",
   "language": "python",
   "name": "python3"
  },
  "language_info": {
   "codemirror_mode": {
    "name": "ipython",
    "version": 3
   },
   "file_extension": ".py",
   "mimetype": "text/x-python",
   "name": "python",
   "nbconvert_exporter": "python",
   "pygments_lexer": "ipython3",
   "version": "3.7.2"
  }
 },
 "nbformat": 4,
 "nbformat_minor": 2
}
