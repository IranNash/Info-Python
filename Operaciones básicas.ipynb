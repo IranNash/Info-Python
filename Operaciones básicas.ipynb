{
 "cells": [
  {
   "cell_type": "markdown",
   "metadata": {},
   "source": [
    "## Operaciones Básicas en Python\n",
    "\n",
    "Estas son  las operaciones básicas en Python 3. Son un conjunto de ejmplos del uso de comandos y sintaxis básica dentro del lengauje. "
   ]
  },
  {
   "cell_type": "markdown",
   "metadata": {},
   "source": [
    "Tipos de Variables"
   ]
  },
  {
   "cell_type": "code",
   "execution_count": 1,
   "metadata": {},
   "outputs": [],
   "source": [
    "#Colocar un '#' antes algún texto, permite insertar comentarios que no afecten el código."
   ]
  },
  {
   "cell_type": "code",
   "execution_count": 2,
   "metadata": {},
   "outputs": [
    {
     "name": "stdout",
     "output_type": "stream",
     "text": [
      "<class 'int'>\n"
     ]
    }
   ],
   "source": [
    "uno = 1234\n",
    "print(type(uno))"
   ]
  },
  {
   "cell_type": "code",
   "execution_count": 3,
   "metadata": {},
   "outputs": [
    {
     "name": "stdout",
     "output_type": "stream",
     "text": [
      "<class 'float'>\n"
     ]
    }
   ],
   "source": [
    "decimal = 12.345\n",
    "print(type(decimal))"
   ]
  },
  {
   "cell_type": "code",
   "execution_count": 4,
   "metadata": {},
   "outputs": [
    {
     "name": "stdout",
     "output_type": "stream",
     "text": [
      "<class 'bool'>\n",
      "<class 'bool'>\n"
     ]
    }
   ],
   "source": [
    "verdad = True\n",
    "mentira=False\n",
    "print(type(verdad))\n",
    "print(type(mentira))"
   ]
  },
  {
   "cell_type": "code",
   "execution_count": 5,
   "metadata": {},
   "outputs": [
    {
     "name": "stdout",
     "output_type": "stream",
     "text": [
      "<class 'complex'>\n"
     ]
    }
   ],
   "source": [
    "com = 2+3j\n",
    "print(type(com))"
   ]
  },
  {
   "cell_type": "markdown",
   "metadata": {},
   "source": [
    "Operadores Aritméticos"
   ]
  },
  {
   "cell_type": "code",
   "execution_count": 6,
   "metadata": {},
   "outputs": [
    {
     "name": "stdout",
     "output_type": "stream",
     "text": [
      "30\n",
      "-10\n",
      "200\n",
      "0.5\n"
     ]
    }
   ],
   "source": [
    "a=10\n",
    "b=20\n",
    "print(a+b)\n",
    "print(a-b)\n",
    "print (a*b)\n",
    "print (a/b)"
   ]
  },
  {
   "cell_type": "markdown",
   "metadata": {},
   "source": [
    "Truncar"
   ]
  },
  {
   "cell_type": "code",
   "execution_count": 7,
   "metadata": {},
   "outputs": [
    {
     "name": "stdout",
     "output_type": "stream",
     "text": [
      "3.3333333333333335\n",
      "3\n"
     ]
    }
   ],
   "source": [
    "c=3\n",
    "print(a/c)\n",
    "print(a//c)"
   ]
  },
  {
   "cell_type": "markdown",
   "metadata": {},
   "source": [
    "Redondeo"
   ]
  },
  {
   "cell_type": "code",
   "execution_count": 8,
   "metadata": {},
   "outputs": [
    {
     "data": {
      "text/plain": [
       "5"
      ]
     },
     "execution_count": 8,
     "metadata": {},
     "output_type": "execute_result"
    }
   ],
   "source": [
    "round(4.87)"
   ]
  },
  {
   "cell_type": "markdown",
   "metadata": {},
   "source": [
    "Módulo"
   ]
  },
  {
   "cell_type": "code",
   "execution_count": 9,
   "metadata": {},
   "outputs": [
    {
     "name": "stdout",
     "output_type": "stream",
     "text": [
      "2\n"
     ]
    }
   ],
   "source": [
    "print(b % c)"
   ]
  },
  {
   "cell_type": "markdown",
   "metadata": {},
   "source": [
    "Potencia"
   ]
  },
  {
   "cell_type": "code",
   "execution_count": 10,
   "metadata": {},
   "outputs": [
    {
     "name": "stdout",
     "output_type": "stream",
     "text": [
      "1000\n"
     ]
    }
   ],
   "source": [
    "print(a**c)"
   ]
  },
  {
   "cell_type": "markdown",
   "metadata": {},
   "source": [
    "<b> Nota: </b> python siempre suma de izqierda a derecha. Con parentesis priorizas."
   ]
  },
  {
   "cell_type": "code",
   "execution_count": 11,
   "metadata": {},
   "outputs": [
    {
     "name": "stdout",
     "output_type": "stream",
     "text": [
      "3.627906976744186\n"
     ]
    }
   ],
   "source": [
    "print((10+3)*(12/43))\n",
    "#la gerarquia es: \n",
    "#parentesis\n",
    "#potencia\n",
    "#multiplicación\n",
    "#división\n",
    "#modulo\n",
    "#suma\n",
    "#resta"
   ]
  },
  {
   "cell_type": "markdown",
   "metadata": {},
   "source": [
    "# Condicionales"
   ]
  },
  {
   "cell_type": "code",
   "execution_count": 12,
   "metadata": {},
   "outputs": [
    {
     "name": "stdout",
     "output_type": "stream",
     "text": [
      "Es menor\n"
     ]
    }
   ],
   "source": [
    "d= 10\n",
    "if a < b: print ('Es menor')"
   ]
  },
  {
   "cell_type": "code",
   "execution_count": 13,
   "metadata": {},
   "outputs": [
    {
     "name": "stdout",
     "output_type": "stream",
     "text": [
      "Es diferente\n"
     ]
    }
   ],
   "source": [
    "if a > b: \n",
    "    print('Es mayor')   \n",
    "elif a == b:\n",
    "    print('Es igual')   \n",
    "else: \n",
    "    print('Es diferente')"
   ]
  },
  {
   "cell_type": "markdown",
   "metadata": {},
   "source": [
    "Búsqueda de palabras en una lista."
   ]
  },
  {
   "cell_type": "code",
   "execution_count": 14,
   "metadata": {},
   "outputs": [
    {
     "name": "stdout",
     "output_type": "stream",
     "text": [
      "Se encontro\n"
     ]
    }
   ],
   "source": [
    "palabras = ['Hola', 'como','','', 'estas', 'desde', 'hace', 'tiempo', 'te', 'he', 'escrito']\n",
    "if 'hace' in palabras:\n",
    "    print('Se encontro')\n",
    "else:\n",
    "    print('No se encontro')"
   ]
  },
  {
   "cell_type": "markdown",
   "metadata": {},
   "source": [
    "Anidación"
   ]
  },
  {
   "cell_type": "code",
   "execution_count": 15,
   "metadata": {},
   "outputs": [
    {
     "name": "stdout",
     "output_type": "stream",
     "text": [
      "OK\n"
     ]
    }
   ],
   "source": [
    "prueba = 17\n",
    "if prueba > 10:\n",
    "    if prueba < 20:\n",
    "        if prueba == 17:\n",
    "            print(\"OK\")\n",
    "else: \n",
    "    print(\"No se cumple\")"
   ]
  },
  {
   "cell_type": "markdown",
   "metadata": {},
   "source": [
    "Operadores Relacionales"
   ]
  },
  {
   "cell_type": "code",
   "execution_count": 16,
   "metadata": {},
   "outputs": [
    {
     "name": "stdout",
     "output_type": "stream",
     "text": [
      "Son diferentes\n"
     ]
    }
   ],
   "source": [
    "if prueba != d:\n",
    "    print('Son diferentes')\n",
    "else: \n",
    "    print('son iguales')"
   ]
  },
  {
   "cell_type": "code",
   "execution_count": 17,
   "metadata": {},
   "outputs": [
    {
     "name": "stdout",
     "output_type": "stream",
     "text": [
      "Es mayor o igual\n"
     ]
    }
   ],
   "source": [
    "if prueba >= d:\n",
    "    print ('Es mayor o igual')\n",
    "else:\n",
    "    print ('Es menor')"
   ]
  },
  {
   "cell_type": "markdown",
   "metadata": {},
   "source": [
    "Operadores Lógicos"
   ]
  },
  {
   "cell_type": "code",
   "execution_count": 18,
   "metadata": {},
   "outputs": [
    {
     "name": "stdout",
     "output_type": "stream",
     "text": [
      "OK\n"
     ]
    }
   ],
   "source": [
    "if prueba != d and prueba > 2 and d<1000:\n",
    "    print('OK')\n",
    "else:\n",
    "    print ('No Ok')"
   ]
  },
  {
   "cell_type": "code",
   "execution_count": 19,
   "metadata": {},
   "outputs": [
    {
     "name": "stdout",
     "output_type": "stream",
     "text": [
      "OK\n"
     ]
    }
   ],
   "source": [
    "if not prueba == d or not prueba > 4000 or prueba != 17:\n",
    "    print('OK')\n",
    "else:\n",
    "    print('No Ok')"
   ]
  },
  {
   "cell_type": "code",
   "execution_count": 20,
   "metadata": {},
   "outputs": [
    {
     "name": "stdout",
     "output_type": "stream",
     "text": [
      "Se cumple\n"
     ]
    }
   ],
   "source": [
    "if prueba == a or b > c:\n",
    "    print('Se cumple')\n",
    "else:\n",
    "    print('No se cumple')"
   ]
  },
  {
   "cell_type": "code",
   "execution_count": 21,
   "metadata": {},
   "outputs": [
    {
     "name": "stdout",
     "output_type": "stream",
     "text": [
      "No ok\n"
     ]
    }
   ],
   "source": [
    "if not prueba == 17:\n",
    "    print('Ok')\n",
    "else:\n",
    "    print('No ok')"
   ]
  },
  {
   "cell_type": "code",
   "execution_count": 22,
   "metadata": {},
   "outputs": [
    {
     "name": "stdout",
     "output_type": "stream",
     "text": [
      "Si es una coma y lleva un espacio\n"
     ]
    }
   ],
   "source": [
    "texto = 'Este, es un texto de prueba'\n",
    "if texto[4] ==',' and texto[5] == ' ':\n",
    "    print('Si es una coma y lleva un espacio')"
   ]
  },
  {
   "cell_type": "code",
   "execution_count": 23,
   "metadata": {},
   "outputs": [
    {
     "name": "stdout",
     "output_type": "stream",
     "text": [
      "el caracter es: ,\n"
     ]
    }
   ],
   "source": [
    "texto = 'Este, es un texto de prueba'\n",
    "if texto[2] == ',':\n",
    "    print('el caracter es: '+ texto[2])\n",
    "elif texto[3] ==',':\n",
    "    print('el caracter es: '+ texto[3])\n",
    "elif texto[4] ==',':\n",
    "    print('el caracter es: '+ texto[4]) "
   ]
  },
  {
   "cell_type": "code",
   "execution_count": 24,
   "metadata": {},
   "outputs": [
    {
     "name": "stdout",
     "output_type": "stream",
     "text": [
      "No cumplio con ninguna de arriba\n"
     ]
    }
   ],
   "source": [
    "texto = 'Este, es un texto de prueba'\n",
    "if texto[2] == ',':\n",
    "    print('el caracter es: '+ texto[2])\n",
    "elif texto[3] ==',':\n",
    "    print('el caracter es: '+ texto[3])\n",
    "elif texto[5] ==',':\n",
    "    print('el caracter es: '+ texto[4]) \n",
    "else:\n",
    "    print('No cumplio con ninguna de arriba')"
   ]
  },
  {
   "cell_type": "markdown",
   "metadata": {},
   "source": [
    "# Introducir datos desde el teclado"
   ]
  },
  {
   "cell_type": "code",
   "execution_count": 25,
   "metadata": {},
   "outputs": [
    {
     "name": "stdout",
     "output_type": "stream",
     "text": [
      "escribe tu edad 25\n",
      "25\n"
     ]
    }
   ],
   "source": [
    "edad=int(input(\"escribe tu edad \")) #int para numeros enteros\n",
    "print(edad)"
   ]
  },
  {
   "cell_type": "code",
   "execution_count": 26,
   "metadata": {},
   "outputs": [
    {
     "name": "stdout",
     "output_type": "stream",
     "text": [
      "escribe tu estatura 1.65\n",
      "1.65\n"
     ]
    }
   ],
   "source": [
    "estatura=float(input(\"escribe tu estatura \")) #float para datos con decimales\n",
    "print(estatura)"
   ]
  },
  {
   "cell_type": "code",
   "execution_count": 27,
   "metadata": {},
   "outputs": [
    {
     "name": "stdout",
     "output_type": "stream",
     "text": [
      "dame tu nombre Irán\n",
      "tu nombre es:  Irán\n"
     ]
    }
   ],
   "source": [
    "nombre=input(\"dame tu nombre \") #introducir texto\n",
    "print(\"tu nombre es: \", nombre)"
   ]
  },
  {
   "cell_type": "markdown",
   "metadata": {},
   "source": [
    "# Bucles\n",
    "Permite ejecutar instrucciones repetitivas utilizando menos código, podemos utilizar While o For."
   ]
  },
  {
   "cell_type": "markdown",
   "metadata": {},
   "source": [
    "Ejemplo1: ejecute 10 veces '\"el contador es 1\"... \"el contador es 10\"'"
   ]
  },
  {
   "cell_type": "code",
   "execution_count": 28,
   "metadata": {},
   "outputs": [
    {
     "name": "stdout",
     "output_type": "stream",
     "text": [
      "el contador es 1\n",
      "el contador es 2\n",
      "el contador es 3\n",
      "el contador es 4\n",
      "el contador es 5\n",
      "el contador es 6\n",
      "el contador es 7\n",
      "el contador es 8\n",
      "el contador es 9\n",
      "el contador es 10\n"
     ]
    }
   ],
   "source": [
    "contador = 1\n",
    "while contador <= 10:\n",
    "    print('el contador es', contador)\n",
    "    contador = contador +1\n",
    "suma = 0"
   ]
  },
  {
   "cell_type": "markdown",
   "metadata": {},
   "source": [
    "Ejemplo 2: Solicite una Clave, solo tienes tres intentos de acertar, la clave correcta será \"despedida\". Si la clave es correcta imprime \"Es correcto\", de lo contrario, imprime \"Inténtelo nuevamente\".\n",
    "Al final imprimir también el numero de intentos fallidos."
   ]
  },
  {
   "cell_type": "code",
   "execution_count": 29,
   "metadata": {},
   "outputs": [
    {
     "name": "stdout",
     "output_type": "stream",
     "text": [
      "Clave:despedida\n",
      "Es correcto\n",
      "Tuviste 0 intentos fallidos\n"
     ]
    }
   ],
   "source": [
    "suma=0\n",
    "while suma < 3:\n",
    "    entrada = input('Clave:')\n",
    "    #Si se ingresa la palabra \"despedida, se termina el ciclo.\n",
    "    if entrada == 'despedida':\n",
    "        print('Es correcto')\n",
    "        break #palabra para romper el ciclo\n",
    "    else:\n",
    "        print('Inténtalo nuevamente')\n",
    "    suma = suma +1\n",
    "print('Tuviste', suma,'intentos fallidos')"
   ]
  },
  {
   "cell_type": "markdown",
   "metadata": {},
   "source": [
    "Ejemplo 3: Imprime toda las letras de un texto"
   ]
  },
  {
   "cell_type": "code",
   "execution_count": 30,
   "metadata": {},
   "outputs": [
    {
     "name": "stdout",
     "output_type": "stream",
     "text": [
      "H\n",
      "o\n",
      "l\n",
      "a\n",
      " \n",
      "m\n",
      "u\n",
      "n\n",
      "d\n",
      "o\n"
     ]
    }
   ],
   "source": [
    "hola = 'Hola mundo'\n",
    "for i in hola:\n",
    "    print(i)"
   ]
  },
  {
   "cell_type": "markdown",
   "metadata": {},
   "source": [
    "Ejemplo 4: Cuente el número de comas \",\" dentro de un texto"
   ]
  },
  {
   "cell_type": "code",
   "execution_count": 31,
   "metadata": {},
   "outputs": [
    {
     "name": "stdout",
     "output_type": "stream",
     "text": [
      "El texto tiene  5  comas\n"
     ]
    }
   ],
   "source": [
    "texto1 = 'Este, es, un, texto, de, prueba'\n",
    "comas = 0\n",
    "for i in texto1:\n",
    "    if i==',':\n",
    "        comas+= 1\n",
    "        #print(',')\n",
    "print('El texto tiene ', comas, ' comas')"
   ]
  },
  {
   "cell_type": "markdown",
   "metadata": {},
   "source": [
    "Ejemplo 5: imprima los números impares de un rango del 1 al 10."
   ]
  },
  {
   "cell_type": "code",
   "execution_count": 32,
   "metadata": {},
   "outputs": [
    {
     "name": "stdout",
     "output_type": "stream",
     "text": [
      "1\n",
      "3\n",
      "5\n",
      "7\n",
      "9\n"
     ]
    }
   ],
   "source": [
    "for i in range(1, 10, 2):\n",
    "    print(i)"
   ]
  },
  {
   "cell_type": "markdown",
   "metadata": {},
   "source": [
    "Ejemplo 6: Introducir tres números enteros, aplicar con los datos la fórmula siguiente $dato1 * dato2 - dato3$, y decir si el resultado es par o impar."
   ]
  },
  {
   "cell_type": "code",
   "execution_count": 33,
   "metadata": {},
   "outputs": [
    {
     "name": "stdout",
     "output_type": "stream",
     "text": [
      "Dame el dato número  1\n",
      "3\n",
      "Dame el dato número  2\n",
      "4\n",
      "Dame el dato número  3\n",
      "5\n",
      "El resultado de la operación es: 7\n",
      "El resultado es impar\n"
     ]
    }
   ],
   "source": [
    "i=1\n",
    "while i<4:\n",
    "    print(\"Dame el dato número \", i)\n",
    "    dato_i = int(input())\n",
    "    if i==1:\n",
    "        resultado = dato_i\n",
    "    elif i==2:\n",
    "        resultado *= dato_i\n",
    "    else:\n",
    "        resultado = resultado - dato_i\n",
    "    i += 1\n",
    "print(\"El resultado de la operación es:\", resultado)\n",
    "if resultado % 2 == 0:\n",
    "    print(\"El resultado es un número par\")\n",
    "else:\n",
    "    print(\"El resultado es impar\")"
   ]
  },
  {
   "cell_type": "markdown",
   "metadata": {},
   "source": [
    "Ejemplo 7: Programa que imprima los números pares en un rango otorgado y calcular su suma."
   ]
  },
  {
   "cell_type": "code",
   "execution_count": 34,
   "metadata": {},
   "outputs": [
    {
     "name": "stdout",
     "output_type": "stream",
     "text": [
      "Dame el límite inferior 2\n",
      "Dame el límite superior 13\n",
      "2\n",
      "4\n",
      "6\n",
      "8\n",
      "10\n",
      "12\n",
      "La suma de todos los números es:  90\n",
      "La suma de los pares es  42\n"
     ]
    }
   ],
   "source": [
    "Li=int(input(\"Dame el límite inferior \"))\n",
    "Ls=int(input(\"Dame el límite superior \"))\n",
    "par=0\n",
    "for j in range(Li,Ls+1):\n",
    "    if j % 2 == 0:\n",
    "        print(j)\n",
    "        par += j\n",
    "    if j==Li:\n",
    "        resultado = j\n",
    "    else:\n",
    "        resultado += j\n",
    "print(\"La suma de todos los números es: \", resultado)\n",
    "print(\"La suma de los pares es \", par)"
   ]
  },
  {
   "cell_type": "markdown",
   "metadata": {},
   "source": [
    "Ejemplo 8: Calcular e imprimir el producto $1*2*3*4*5*… n$."
   ]
  },
  {
   "cell_type": "code",
   "execution_count": 35,
   "metadata": {},
   "outputs": [
    {
     "name": "stdout",
     "output_type": "stream",
     "text": [
      "Dame un número 2\n",
      "El resultado del producto es:  2\n"
     ]
    }
   ],
   "source": [
    "n = int(input(\"Dame un número \"))\n",
    "total = 1\n",
    "for i in range(1,n+1):\n",
    "    total *= i\n",
    "print(\"El resultado del producto es: \", total)"
   ]
  },
  {
   "cell_type": "markdown",
   "metadata": {},
   "source": [
    "Ejemplo 9: Calcula el promedio de n calificaciones, cuando se ingrese \"-1\" deten el ciclo y calcula el promedio."
   ]
  },
  {
   "cell_type": "code",
   "execution_count": 36,
   "metadata": {},
   "outputs": [
    {
     "name": "stdout",
     "output_type": "stream",
     "text": [
      "Escribe una calificacion:6\n",
      "Escribe una calificacion:6\n",
      "Escribe una calificacion:7\n",
      "Escribe una calificacion:8\n",
      "Escribe una calificacion:-1\n",
      "El promedio es:  6.75\n"
     ]
    }
   ],
   "source": [
    "calificacion = 0\n",
    "suma = 0\n",
    "n= 0\n",
    "while calificacion != -1:\n",
    "    calificacion = int(input('Escribe una calificacion:'))\n",
    "    suma += calificacion\n",
    "    n += 1\n",
    "suma=suma+1\n",
    "promedio =suma/(n-1)\n",
    "print('El promedio es: ', promedio)"
   ]
  },
  {
   "cell_type": "markdown",
   "metadata": {},
   "source": [
    "# Funciones"
   ]
  },
  {
   "cell_type": "code",
   "execution_count": 37,
   "metadata": {},
   "outputs": [
    {
     "name": "stdout",
     "output_type": "stream",
     "text": [
      "Hola a todos\n"
     ]
    }
   ],
   "source": [
    "def saludo():\n",
    "    print('Hola a todos')\n",
    "    #En caso de que se quiera reservar la palabra se le asigna pass\n",
    "saludo()"
   ]
  },
  {
   "cell_type": "code",
   "execution_count": 38,
   "metadata": {},
   "outputs": [
    {
     "name": "stdout",
     "output_type": "stream",
     "text": [
      "20\n"
     ]
    }
   ],
   "source": [
    "def producto(alpha, beta):\n",
    "    print(alpha*beta)\n",
    "producto(5, 4)"
   ]
  },
  {
   "cell_type": "code",
   "execution_count": 39,
   "metadata": {},
   "outputs": [
    {
     "name": "stdout",
     "output_type": "stream",
     "text": [
      "9\n"
     ]
    }
   ],
   "source": [
    "def sumatoria(k, h, w):\n",
    "    res = k + h + w\n",
    "    return res\n",
    "print(sumatoria(2,3,4))"
   ]
  },
  {
   "cell_type": "markdown",
   "metadata": {},
   "source": [
    "Tuplas"
   ]
  },
  {
   "cell_type": "code",
   "execution_count": 40,
   "metadata": {},
   "outputs": [
    {
     "name": "stdout",
     "output_type": "stream",
     "text": [
      "5\n",
      "(88, 22)\n",
      "(22, 5, 6, 89, 'hola', 12)\n",
      "(88, 22, 5)\n"
     ]
    }
   ],
   "source": [
    "tupla = (88, 22, 5, 6, 89, 'hola', 12)\n",
    "print(tupla[2])\n",
    "print(tupla[0:2])\n",
    "print(tupla[1:])\n",
    "print(tupla[:3])"
   ]
  },
  {
   "cell_type": "code",
   "execution_count": 41,
   "metadata": {},
   "outputs": [
    {
     "name": "stdout",
     "output_type": "stream",
     "text": [
      "88\n",
      "22\n",
      "5\n",
      "6\n",
      "89\n",
      "hola\n",
      "12\n",
      "7\n"
     ]
    }
   ],
   "source": [
    "for i in tupla:\n",
    "    print(i)\n",
    "print(len(tupla))"
   ]
  },
  {
   "cell_type": "code",
   "execution_count": 42,
   "metadata": {},
   "outputs": [
    {
     "name": "stdout",
     "output_type": "stream",
     "text": [
      "88\n",
      "22\n",
      "5\n",
      "6\n",
      "89\n",
      "hola\n",
      "12\n"
     ]
    }
   ],
   "source": [
    "contador=0\n",
    "while contador < len(tupla):\n",
    "    print(tupla[contador])\n",
    "    contador += 1"
   ]
  },
  {
   "cell_type": "markdown",
   "metadata": {},
   "source": [
    "Concatenar Texto"
   ]
  },
  {
   "cell_type": "code",
   "execution_count": 43,
   "metadata": {},
   "outputs": [
    {
     "name": "stdout",
     "output_type": "stream",
     "text": [
      "hola mundo\n"
     ]
    }
   ],
   "source": [
    "uno = 'hola'\n",
    "dos = 'mundo'\n",
    "tres= uno + ' ' + dos\n",
    "print(tres)"
   ]
  },
  {
   "cell_type": "code",
   "execution_count": 44,
   "metadata": {},
   "outputs": [
    {
     "name": "stdout",
     "output_type": "stream",
     "text": [
      "Saludos: hola mundo\n"
     ]
    }
   ],
   "source": [
    "cuatro = 'Saludos: %s %s' %(uno, dos)\n",
    "print(cuatro)"
   ]
  },
  {
   "cell_type": "code",
   "execution_count": 45,
   "metadata": {},
   "outputs": [
    {
     "name": "stdout",
     "output_type": "stream",
     "text": [
      "Saludos: hola mundo\n"
     ]
    }
   ],
   "source": [
    "cinco = 'Saludos: {0} {1}' .format(uno, dos)\n",
    "print(cinco)"
   ]
  },
  {
   "cell_type": "code",
   "execution_count": 46,
   "metadata": {},
   "outputs": [
    {
     "name": "stdout",
     "output_type": "stream",
     "text": [
      "Hola mundo \n",
      "Hola mundo \n",
      "Hola mundo \n",
      "Hola mundo \n",
      "Hola mundo \n",
      "\n"
     ]
    }
   ],
   "source": [
    "uno = 'Hola mundo \\n'\n",
    "print(uno*5)"
   ]
  },
  {
   "cell_type": "code",
   "execution_count": 47,
   "metadata": {},
   "outputs": [
    {
     "name": "stdout",
     "output_type": "stream",
     "text": [
      "Hola Mundo es un saludo\n"
     ]
    }
   ],
   "source": [
    "uno='Hola Mundo '\n",
    "uno += 'es un saludo'\n",
    "print(uno)"
   ]
  },
  {
   "cell_type": "code",
   "execution_count": 48,
   "metadata": {},
   "outputs": [
    {
     "name": "stdout",
     "output_type": "stream",
     "text": [
      "23\n"
     ]
    }
   ],
   "source": [
    "print(len(uno))"
   ]
  },
  {
   "cell_type": "code",
   "execution_count": 49,
   "metadata": {},
   "outputs": [
    {
     "name": "stdout",
     "output_type": "stream",
     "text": [
      "-1\n"
     ]
    }
   ],
   "source": [
    "print(uno.find('mundo'))"
   ]
  },
  {
   "cell_type": "code",
   "execution_count": 50,
   "metadata": {},
   "outputs": [
    {
     "name": "stdout",
     "output_type": "stream",
     "text": [
      "hola mundo es un saludo\n"
     ]
    }
   ],
   "source": [
    "print(uno.lower())"
   ]
  },
  {
   "cell_type": "code",
   "execution_count": 51,
   "metadata": {},
   "outputs": [
    {
     "name": "stdout",
     "output_type": "stream",
     "text": [
      "HOLA MUNDO ES UN SALUDO\n"
     ]
    }
   ],
   "source": [
    "print(uno.upper())"
   ]
  },
  {
   "cell_type": "code",
   "execution_count": 52,
   "metadata": {},
   "outputs": [
    {
     "name": "stdout",
     "output_type": "stream",
     "text": [
      "Hola World es un saludo\n"
     ]
    }
   ],
   "source": [
    "print(uno.replace('Mundo','World'))"
   ]
  },
  {
   "cell_type": "code",
   "execution_count": 53,
   "metadata": {},
   "outputs": [
    {
     "name": "stdout",
     "output_type": "stream",
     "text": [
      "Hola Mundo\n"
     ]
    }
   ],
   "source": [
    "print(uno[0:10])"
   ]
  },
  {
   "cell_type": "code",
   "execution_count": 54,
   "metadata": {},
   "outputs": [
    {
     "name": "stdout",
     "output_type": "stream",
     "text": [
      "Hola Mundo \n",
      "es un saludo\n"
     ]
    }
   ],
   "source": [
    "uno='Hola Mundo \\n'\n",
    "uno += 'es un saludo'\n",
    "print(uno)"
   ]
  },
  {
   "cell_type": "code",
   "execution_count": 55,
   "metadata": {},
   "outputs": [
    {
     "name": "stdout",
     "output_type": "stream",
     "text": [
      "Hola 'Mundo'es un saludo\n"
     ]
    }
   ],
   "source": [
    "uno='Hola \\'Mundo\\''\n",
    "uno += 'es un saludo'\n",
    "print(uno)"
   ]
  },
  {
   "cell_type": "code",
   "execution_count": 56,
   "metadata": {},
   "outputs": [
    {
     "name": "stdout",
     "output_type": "stream",
     "text": [
      "Hola 'Mundo'es un saludo\n"
     ]
    }
   ],
   "source": [
    "uno=\"Hola 'Mundo'\"\n",
    "uno += \"es un saludo\"\n",
    "print(uno)"
   ]
  },
  {
   "cell_type": "code",
   "execution_count": 57,
   "metadata": {},
   "outputs": [
    {
     "name": "stdout",
     "output_type": "stream",
     "text": [
      "Hola \"mundo\"\n"
     ]
    }
   ],
   "source": [
    "uno='Hola \"mundo\"'\n",
    "print(uno)"
   ]
  },
  {
   "cell_type": "markdown",
   "metadata": {},
   "source": [
    "Listas"
   ]
  },
  {
   "cell_type": "code",
   "execution_count": 58,
   "metadata": {},
   "outputs": [
    {
     "name": "stdout",
     "output_type": "stream",
     "text": [
      "[10, 20, 30, 'hola']\n"
     ]
    }
   ],
   "source": [
    "uno =[10, 20, 30, 'hola']\n",
    "print(uno)"
   ]
  },
  {
   "cell_type": "code",
   "execution_count": 59,
   "metadata": {},
   "outputs": [
    {
     "name": "stdout",
     "output_type": "stream",
     "text": [
      "20\n"
     ]
    }
   ],
   "source": [
    "uno =[10, 20, 30, 'hola']\n",
    "print(uno[1])"
   ]
  },
  {
   "cell_type": "code",
   "execution_count": 60,
   "metadata": {},
   "outputs": [
    {
     "name": "stdout",
     "output_type": "stream",
     "text": [
      "10\n",
      "20\n",
      "30\n",
      "hola\n"
     ]
    }
   ],
   "source": [
    "for i in uno:\n",
    "    print(i)"
   ]
  },
  {
   "cell_type": "code",
   "execution_count": 61,
   "metadata": {},
   "outputs": [
    {
     "name": "stdout",
     "output_type": "stream",
     "text": [
      "[10, 20, 30, 40, 50, 60, 70, 80]\n"
     ]
    }
   ],
   "source": [
    "uno=[10, 20, 30, 40]\n",
    "dos=[50, 60, 70, 80]\n",
    "print(uno + dos)"
   ]
  },
  {
   "cell_type": "code",
   "execution_count": 62,
   "metadata": {},
   "outputs": [
    {
     "name": "stdout",
     "output_type": "stream",
     "text": [
      "[[10, 20, 'hola', 4.3], [50, 'bye', 70, 80]]\n"
     ]
    }
   ],
   "source": [
    "uno=[10, 20, 'hola', 4.3]\n",
    "dos=[50, 'bye', 70, 80]\n",
    "lista_de_listas=[uno, dos]\n",
    "print(lista_de_listas)"
   ]
  },
  {
   "cell_type": "code",
   "execution_count": 63,
   "metadata": {},
   "outputs": [
    {
     "data": {
      "text/plain": [
       "4.3"
      ]
     },
     "execution_count": 63,
     "metadata": {},
     "output_type": "execute_result"
    }
   ],
   "source": [
    "lista_de_listas[0][3] # Lista 0, elemento 3"
   ]
  },
  {
   "cell_type": "code",
   "execution_count": 64,
   "metadata": {},
   "outputs": [
    {
     "data": {
      "text/plain": [
       "80"
      ]
     },
     "execution_count": 64,
     "metadata": {},
     "output_type": "execute_result"
    }
   ],
   "source": [
    "lista_de_listas[1][-1] "
   ]
  },
  {
   "cell_type": "code",
   "execution_count": 65,
   "metadata": {},
   "outputs": [
    {
     "data": {
      "text/plain": [
       "['bye', 70]"
      ]
     },
     "execution_count": 65,
     "metadata": {},
     "output_type": "execute_result"
    }
   ],
   "source": [
    "lista_de_listas[1][1:3] # De la lista 1, del elemento 1 al 3, sin tocar el 3."
   ]
  },
  {
   "cell_type": "code",
   "execution_count": 66,
   "metadata": {},
   "outputs": [
    {
     "name": "stdout",
     "output_type": "stream",
     "text": [
      "[10, 20, 30, 40, 50, 60, 70, 80]\n"
     ]
    }
   ],
   "source": [
    "uno=[10, 20, 30, 40]\n",
    "dos=[50, 60, 70, 80]\n",
    "tres=uno + dos\n",
    "print(tres)"
   ]
  },
  {
   "cell_type": "code",
   "execution_count": 67,
   "metadata": {},
   "outputs": [
    {
     "name": "stdout",
     "output_type": "stream",
     "text": [
      "se encontro\n"
     ]
    }
   ],
   "source": [
    "if 50 in tres:\n",
    "    print('se encontro')\n",
    "else:\n",
    "    print('No se encontró')"
   ]
  },
  {
   "cell_type": "code",
   "execution_count": 68,
   "metadata": {},
   "outputs": [
    {
     "name": "stdout",
     "output_type": "stream",
     "text": [
      "[10, 20, 30, 40, 50]\n"
     ]
    }
   ],
   "source": [
    "print(tres[0:5])"
   ]
  },
  {
   "cell_type": "code",
   "execution_count": 69,
   "metadata": {},
   "outputs": [
    {
     "name": "stdout",
     "output_type": "stream",
     "text": [
      "[20, 30, 40, 50]\n"
     ]
    }
   ],
   "source": [
    "print(tres[1:5])"
   ]
  },
  {
   "cell_type": "code",
   "execution_count": 70,
   "metadata": {},
   "outputs": [
    {
     "name": "stdout",
     "output_type": "stream",
     "text": [
      "[10, 20, 30, 40, 50, 60, 70, 80]\n"
     ]
    }
   ],
   "source": [
    "print(tres[0:])"
   ]
  },
  {
   "cell_type": "code",
   "execution_count": 71,
   "metadata": {},
   "outputs": [
    {
     "name": "stdout",
     "output_type": "stream",
     "text": [
      "70\n"
     ]
    }
   ],
   "source": [
    "print(tres[-2])"
   ]
  },
  {
   "cell_type": "markdown",
   "metadata": {},
   "source": [
    "Diccionario"
   ]
  },
  {
   "cell_type": "code",
   "execution_count": 72,
   "metadata": {},
   "outputs": [
    {
     "name": "stdout",
     "output_type": "stream",
     "text": [
      "30\n"
     ]
    }
   ],
   "source": [
    "uno={'a':10, 'b':20, 'hola': 30}    \n",
    "print(uno['hola'])"
   ]
  },
  {
   "cell_type": "code",
   "execution_count": 73,
   "metadata": {},
   "outputs": [
    {
     "data": {
      "text/plain": [
       "35"
      ]
     },
     "execution_count": 73,
     "metadata": {},
     "output_type": "execute_result"
    }
   ],
   "source": [
    "jose = {'nombre':'Jose Perez', 'edad':35, 'direccion':'independencia # 5', 'telefono':'228822222'}\n",
    "jose['edad']"
   ]
  },
  {
   "cell_type": "code",
   "execution_count": 74,
   "metadata": {},
   "outputs": [
    {
     "name": "stdout",
     "output_type": "stream",
     "text": [
      "['__class__', '__contains__', '__delattr__', '__delitem__', '__dir__', '__doc__', '__eq__', '__format__', '__ge__', '__getattribute__', '__getitem__', '__gt__', '__hash__', '__init__', '__init_subclass__', '__iter__', '__le__', '__len__', '__lt__', '__ne__', '__new__', '__reduce__', '__reduce_ex__', '__repr__', '__setattr__', '__setitem__', '__sizeof__', '__str__', '__subclasshook__', 'clear', 'copy', 'fromkeys', 'get', 'items', 'keys', 'pop', 'popitem', 'setdefault', 'update', 'values']\n"
     ]
    }
   ],
   "source": [
    "print(dir(uno))#Solo metodos"
   ]
  },
  {
   "cell_type": "code",
   "execution_count": 75,
   "metadata": {},
   "outputs": [
    {
     "name": "stdout",
     "output_type": "stream",
     "text": [
      "<class 'dict'>\n"
     ]
    }
   ],
   "source": [
    "print(type(uno))"
   ]
  },
  {
   "cell_type": "code",
   "execution_count": 76,
   "metadata": {},
   "outputs": [
    {
     "name": "stdout",
     "output_type": "stream",
     "text": [
      "5010\n"
     ]
    }
   ],
   "source": [
    "uno=50\n",
    "dos=10\n",
    "print(str(uno)+str(dos))"
   ]
  },
  {
   "cell_type": "markdown",
   "metadata": {},
   "source": [
    "## Objetos y Clases"
   ]
  },
  {
   "cell_type": "code",
   "execution_count": 77,
   "metadata": {},
   "outputs": [],
   "source": [
    "#clase\n",
    "class mascota:\n",
    "    nombre = 'Adolfo'\n",
    "    edad=0\n",
    "    altura=0\n",
    "    \n",
    "    def correr():\n",
    "        return 'La mascota corre'\n",
    "#Objeto\n",
    "gato = mascota"
   ]
  },
  {
   "cell_type": "code",
   "execution_count": 78,
   "metadata": {},
   "outputs": [
    {
     "name": "stdout",
     "output_type": "stream",
     "text": [
      "Adolfo\n"
     ]
    }
   ],
   "source": [
    "print(gato.nombre)"
   ]
  },
  {
   "cell_type": "code",
   "execution_count": 79,
   "metadata": {
    "scrolled": true
   },
   "outputs": [
    {
     "name": "stdout",
     "output_type": "stream",
     "text": [
      "La mascota corre\n"
     ]
    }
   ],
   "source": [
    "print(gato.correr())"
   ]
  },
  {
   "cell_type": "markdown",
   "metadata": {},
   "source": [
    "Constructor"
   ]
  },
  {
   "cell_type": "code",
   "execution_count": 80,
   "metadata": {},
   "outputs": [],
   "source": [
    "class mascota:\n",
    "    def __init__(self):\n",
    "        self.nombre = 'Adolfo'\n",
    "        self.edad=0\n",
    "        self.altura=3\n",
    "    \n",
    "    def correr(self):\n",
    "        return self.altura\n",
    "gato = mascota()"
   ]
  },
  {
   "cell_type": "code",
   "execution_count": 81,
   "metadata": {},
   "outputs": [
    {
     "name": "stdout",
     "output_type": "stream",
     "text": [
      "3\n"
     ]
    }
   ],
   "source": [
    "print(gato.correr())"
   ]
  },
  {
   "cell_type": "code",
   "execution_count": 82,
   "metadata": {},
   "outputs": [
    {
     "name": "stdout",
     "output_type": "stream",
     "text": [
      "Adolfo\n"
     ]
    }
   ],
   "source": [
    "print(gato.nombre)"
   ]
  },
  {
   "cell_type": "code",
   "execution_count": 83,
   "metadata": {},
   "outputs": [],
   "source": [
    "class mascota:\n",
    "    def __init__(self, nombre, edad, altura):\n",
    "        self.nombre = nombre\n",
    "        self.edad= edad\n",
    "        self.altura= altura\n",
    "    \n",
    "    def correr(self):\n",
    "        return self.altura\n",
    "gato = mascota('Adolfo', 3, 18)"
   ]
  },
  {
   "cell_type": "code",
   "execution_count": 84,
   "metadata": {},
   "outputs": [
    {
     "name": "stdout",
     "output_type": "stream",
     "text": [
      "18\n"
     ]
    }
   ],
   "source": [
    "print(gato.correr())"
   ]
  },
  {
   "cell_type": "code",
   "execution_count": 85,
   "metadata": {},
   "outputs": [
    {
     "name": "stdout",
     "output_type": "stream",
     "text": [
      "3\n"
     ]
    }
   ],
   "source": [
    "print(gato.edad)"
   ]
  },
  {
   "cell_type": "code",
   "execution_count": 86,
   "metadata": {},
   "outputs": [
    {
     "name": "stdout",
     "output_type": "stream",
     "text": [
      "cacho\n"
     ]
    }
   ],
   "source": [
    "perro = mascota('cacho', 9, 45)\n",
    "print(perro.nombre)"
   ]
  },
  {
   "cell_type": "code",
   "execution_count": 87,
   "metadata": {},
   "outputs": [],
   "source": [
    "class mascota:\n",
    "    def __init__(self, nombre, edad, altura):\n",
    "        self.nombre = nombre\n",
    "        self.edad= edad\n",
    "        self.altura= altura\n",
    "    \n",
    "    def correr(self, primero):\n",
    "        return self.nombre + ' ' + primero\n",
    "gato = mascota('Adolfo', 3, 18)\n",
    "perro = mascota('Cacho', 9, 45)"
   ]
  },
  {
   "cell_type": "code",
   "execution_count": 88,
   "metadata": {},
   "outputs": [
    {
     "name": "stdout",
     "output_type": "stream",
     "text": [
      "Adolfo Corre\n"
     ]
    }
   ],
   "source": [
    "print(gato.correr('Corre'))"
   ]
  },
  {
   "cell_type": "code",
   "execution_count": 89,
   "metadata": {},
   "outputs": [
    {
     "name": "stdout",
     "output_type": "stream",
     "text": [
      "Cacho Corre\n"
     ]
    }
   ],
   "source": [
    "print(perro.correr('Corre'))"
   ]
  },
  {
   "cell_type": "markdown",
   "metadata": {},
   "source": [
    "Herencia"
   ]
  },
  {
   "cell_type": "code",
   "execution_count": 90,
   "metadata": {},
   "outputs": [
    {
     "name": "stdout",
     "output_type": "stream",
     "text": [
      "Iran\n"
     ]
    }
   ],
   "source": [
    "class uno:\n",
    "    nombre='Iran'\n",
    "    apellido='Peredo'\n",
    "class dos(uno):\n",
    "    pass\n",
    "datos=dos()\n",
    "print(datos.nombre)"
   ]
  },
  {
   "cell_type": "markdown",
   "metadata": {},
   "source": [
    "Polimorfismo"
   ]
  },
  {
   "cell_type": "code",
   "execution_count": 91,
   "metadata": {},
   "outputs": [
    {
     "name": "stdout",
     "output_type": "stream",
     "text": [
      "Primera accion\n"
     ]
    }
   ],
   "source": [
    "class uno():\n",
    "    def acción(self):\n",
    "        print('Primera accion')\n",
    "class dos():\n",
    "    def acción(self):\n",
    "        print('Segunda acción')\n",
    "def funcion(hola):\n",
    "    hola.acción()\n",
    "ejemplo1=uno()\n",
    "ejemplo2=dos()\n",
    "funcion(ejemplo1)"
   ]
  },
  {
   "cell_type": "markdown",
   "metadata": {},
   "source": [
    "Archivos"
   ]
  },
  {
   "cell_type": "code",
   "execution_count": 92,
   "metadata": {},
   "outputs": [],
   "source": [
    "def creacion():\n",
    "    archivo = open('texto.txt', 'w') #w: escrituta, a:concatenado, r:solo lectura\n",
    "    archivo.close\n",
    "creacion()"
   ]
  },
  {
   "cell_type": "code",
   "execution_count": 93,
   "metadata": {},
   "outputs": [],
   "source": [
    "def escribir():\n",
    "    documento = open('texto.txt', 'a')\n",
    "    documento.write('Nombre: Iran Apolinar \\n')\n",
    "    documento.write('Ubicación: Coatepec')\n",
    "    documento.close()\n",
    "escribir()"
   ]
  },
  {
   "cell_type": "code",
   "execution_count": 94,
   "metadata": {},
   "outputs": [
    {
     "name": "stdout",
     "output_type": "stream",
     "text": [
      "Nombre: Iran Apolinar \n",
      "\n",
      "Ubicación: Coatepec\n"
     ]
    }
   ],
   "source": [
    "def leer():\n",
    "    archivo = open('texto.txt', 'r')\n",
    "    fila = archivo.readline()\n",
    "\n",
    "    while fila !='':\n",
    "        print(fila)\n",
    "        fila=archivo.readline()\n",
    "    archivo.close\n",
    "leer()"
   ]
  }
 ],
 "metadata": {
  "kernelspec": {
   "display_name": "Python 3",
   "language": "python",
   "name": "python3"
  },
  "language_info": {
   "codemirror_mode": {
    "name": "ipython",
    "version": 3
   },
   "file_extension": ".py",
   "mimetype": "text/x-python",
   "name": "python",
   "nbconvert_exporter": "python",
   "pygments_lexer": "ipython3",
   "version": "3.7.2"
  }
 },
 "nbformat": 4,
 "nbformat_minor": 2
}
